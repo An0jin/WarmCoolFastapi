{
 "cells": [
  {
   "cell_type": "code",
   "execution_count": 6,
   "id": "20982044",
   "metadata": {},
   "outputs": [
    {
     "name": "stdout",
     "output_type": "stream",
     "text": [
      "36a20ec9ed1f5\n"
     ]
    }
   ],
   "source": [
    "import os\n",
    "key=os.urandom(32).hex()\n",
    "with open(\".env\") as f:\n",
    "    name=f.read()\n",
    "    if \"jwtSecret\" not in name:\n",
    "        with open(\".env\",\"a\") as f:\n",
    "            f.write(\"jwtSecret=\"+key)\n",
    "            print(key[::5])\n",
    "    else:\n",
    "        print(\"jwtSecret already exists\")\n"
   ]
  }
 ],
 "metadata": {
  "kernelspec": {
   "display_name": "Python 3",
   "language": "python",
   "name": "python3"
  },
  "language_info": {
   "codemirror_mode": {
    "name": "ipython",
    "version": 3
   },
   "file_extension": ".py",
   "mimetype": "text/x-python",
   "name": "python",
   "nbconvert_exporter": "python",
   "pygments_lexer": "ipython3",
   "version": "3.11.9"
  }
 },
 "nbformat": 4,
 "nbformat_minor": 5
}
